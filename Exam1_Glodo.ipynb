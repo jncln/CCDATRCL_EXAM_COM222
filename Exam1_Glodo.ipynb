{
  "cells": [
    {
      "cell_type": "markdown",
      "metadata": {
        "colab_type": "text",
        "id": "view-in-github"
      },
      "source": [
        "<a href=\"https://colab.research.google.com/github/robitussin/CCDATRCL_EXAM/blob/main/exam1.ipynb\" target=\"_parent\"><img src=\"https://colab.research.google.com/assets/colab-badge.svg\" alt=\"Open In Colab\"/></a>"
      ]
    },
    {
      "cell_type": "markdown",
      "metadata": {
        "id": "yaz2B0KGFehP"
      },
      "source": [
        "# Midterm Exam 💛💙"
      ]
    },
    {
      "cell_type": "markdown",
      "metadata": {
        "id": "_DmK1ONEFehQ"
      },
      "source": [
        "**Instructions** ❗️❗️\n",
        "\n",
        "❌ Do not remove or modify the notebook **sections**, **subsections**, **exam questions** or **any text** in this python notebook\n",
        "\n",
        "✔️ Put your answer in the designated cells below each question"
      ]
    },
    {
      "cell_type": "markdown",
      "metadata": {
        "id": "TMCAXKWCFehR"
      },
      "source": [
        "## Search"
      ]
    },
    {
      "cell_type": "code",
      "execution_count": 1004,
      "metadata": {
        "id": "Fy8nEBRRFehR"
      },
      "outputs": [],
      "source": [
        "def linearSearch(my_list, number):\n",
        "\n",
        "    index = 0\n",
        "\n",
        "    for i in my_list:\n",
        "\n",
        "        if my_list[index] == number:\n",
        "            return index\n",
        "\n",
        "        index = index + 1\n",
        "\n",
        "    return -1"
      ]
    },
    {
      "cell_type": "markdown",
      "metadata": {
        "id": "AjAevpueFehS"
      },
      "source": [
        "1. Using **linear search**, write a `findLargestIncrease()` function to find the largest increase in value between two adjacent numbers in your student number `(10 points)`\n",
        "\n",
        "    **Example:**\n",
        "\n",
        "    student_number = [2,0,2,2,6,2,5,1,9,3]\n",
        "\n",
        "    **Expected Output:**\n",
        "\n",
        "    findLargestIncrease(student_number)\n",
        "\n",
        "    Output: Between 1 and 9\n",
        "\n",
        "    **Explanation:**\n",
        "\n",
        "    From this student_number, the largest increase happened from number 1 to number 9"
      ]
    },
    {
      "cell_type": "code",
      "execution_count": 1005,
      "metadata": {
        "id": "JE8nEfyJFehS"
      },
      "outputs": [
        {
          "name": "stdout",
          "output_type": "stream",
          "text": [
            "Output: Between 0 and 9\n"
          ]
        }
      ],
      "source": [
        "def findLargestIncrease(student_number):\n",
        "    max_increase = 0\n",
        "    start_number = 0\n",
        "    end_number = 0\n",
        "\n",
        "    for i in range(len(student_number)):\n",
        "        for j in range(i + 1, len(student_number)):\n",
        "            increase = student_number[j] - student_number[i]\n",
        "            if increase > max_increase:\n",
        "                max_increase = increase\n",
        "                start_number = student_number[i]\n",
        "                end_number = student_number[j]\n",
        "\n",
        "    if start_number is not None and end_number is not None:\n",
        "        return f\"Between {start_number} and {end_number}\"\n",
        "    else:\n",
        "        return \"No Largest Increase\"\n",
        "\n",
        "student_number = [2, 0, 2, 2, 1, 0, 1, 9, 6, 3]\n",
        "result = findLargestIncrease(student_number)\n",
        "print(\"Output:\", result)\n"
      ]
    },
    {
      "cell_type": "markdown",
      "metadata": {
        "id": "nMyr1fNyFehS"
      },
      "source": [
        "2. Using **linear search**, write a `findLargestDecrease()` function to find the largest decrease in value between two adjacent numbers in your student number `(10 points)`\n",
        "\n",
        "    **Example:**\n",
        "\n",
        "    student_number = [2,0,2,2,6,2,5,1,9,3]\n",
        "\n",
        "    **Expected Output:**\n",
        "\n",
        "    findLargestDecrease(student_number)\n",
        "\n",
        "    Output: Between 9 and 3\n",
        "\n",
        "    **Explanation:**\n",
        "\n",
        "    From this student_number, the largest decrease happened from number 9 to number 3"
      ]
    },
    {
      "cell_type": "code",
      "execution_count": 1006,
      "metadata": {
        "id": "bfMfQVbVFehS"
      },
      "outputs": [
        {
          "name": "stdout",
          "output_type": "stream",
          "text": [
            "Output: Between 9 and 6\n"
          ]
        }
      ],
      "source": [
        "def linearSearch(my_list, number):\n",
        "    index = 0\n",
        "    for i in my_list:\n",
        "        if my_list[index] == number:\n",
        "            return index\n",
        "        index = index + 1\n",
        "    return -1\n",
        "\n",
        "def findLargestDecrease(student_number):\n",
        "    largest_num = int()\n",
        "    start_number = -1\n",
        "    end_number = -1\n",
        "\n",
        "    for i in range(len(student_number) - 1):\n",
        "        largest_decrease = student_number[i - 1] - student_number[i]\n",
        "\n",
        "        if largest_decrease < largest_num:\n",
        "            largest_num = largest_decrease\n",
        "            start_number = student_number[i]\n",
        "            end_number = student_number[i + 1]\n",
        "\n",
        "    return f\"Between {start_number} and {end_number}\"\n",
        "\n",
        "student_number = [2, 0, 2, 2, 1, 0, 1, 9, 6, 3]\n",
        "result = findLargestDecrease(student_number)\n",
        "print(\"Output:\", result)"
      ]
    },
    {
      "cell_type": "markdown",
      "metadata": {
        "id": "NtKSQn9QFehS"
      },
      "source": [
        "## Linked List"
      ]
    },
    {
      "cell_type": "code",
      "execution_count": 1007,
      "metadata": {
        "id": "0HP5zyJcFehS"
      },
      "outputs": [],
      "source": [
        "class Node:\n",
        "\n",
        "    def __init__(self, data):\n",
        "        self.data = data\n",
        "        self.next = None  # null"
      ]
    },
    {
      "cell_type": "code",
      "execution_count": 1008,
      "metadata": {
        "id": "A-8Uefe7FehS"
      },
      "outputs": [],
      "source": [
        "class LinkedList:\n",
        "\n",
        "    def __init__(self):\n",
        "        self.head = None\n",
        "\n",
        "    def traverse(self, node):\n",
        "        while node:\n",
        "            print(node.data, end=\" -> \")\n",
        "            node = node.next"
      ]
    },
    {
      "cell_type": "markdown",
      "metadata": {
        "id": "uPgIJJuSFehT"
      },
      "source": [
        "**Instructions** ❗️❗️\n",
        "\n",
        "Use the pre-defined linked list class/functions to create a linked list"
      ]
    },
    {
      "cell_type": "markdown",
      "metadata": {
        "id": "WIwpW7Q2FehT"
      },
      "source": [
        "1. Create a Singly linked list named **num_list** and print all of its elements. `(5 points)`\n",
        "\n",
        "- **num_list** should contain all digits of your student number.\n",
        "\n",
        "    **Expected Output:**\n",
        "\n",
        "    print(num_list)\n",
        "\n",
        "    [2, 0, 2, 2, 1, 2, 3, 4, 5, 6]"
      ]
    },
    {
      "cell_type": "code",
      "execution_count": 1009,
      "metadata": {
        "id": "Lihv0JPiFehT"
      },
      "outputs": [
        {
          "name": "stdout",
          "output_type": "stream",
          "text": [
            "[2,0,2,2,1,0,1,9,6,3]\n"
          ]
        }
      ],
      "source": [
        "class Node:\n",
        "    def __init__(self, data):\n",
        "        self.data = data\n",
        "        self.next = None \n",
        "\n",
        "class LinkedList:\n",
        "    def __init__(self):\n",
        "        self.head = None\n",
        "\n",
        "    def traverse(self, node):\n",
        "          print(\"[\", end=\"\")\n",
        "          while node:\n",
        "             student_number = str(node.data)\n",
        "             print(\",\".join(student_number), end=\"\")\n",
        "             node = node.next\n",
        "             print(\"]\")\n",
        "\n",
        "num_list = LinkedList()\n",
        "\n",
        "num_list.head = Node(2022101963)\n",
        "\n",
        "num_list.traverse(num_list.head)"
      ]
    },
    {
      "cell_type": "markdown",
      "metadata": {
        "id": "dqA2UYrYFehT"
      },
      "source": [
        "2. Write a `hasPrime()` function to test whether a prime number is in the last six digits of **num_list**. `(5 points)`\n",
        "\n",
        "- If a prime number is in the last six digits of **num_list**, the method should return **true**\n",
        "\n",
        "- If a prime number is not in the last six digits of **num_list**, the method should return **false**\n",
        "\n",
        "    **Expected Output:**\n",
        "\n",
        "    hasPrime(num_list)\n",
        "\n",
        "    True"
      ]
    },
    {
      "cell_type": "code",
      "execution_count": 1010,
      "metadata": {
        "id": "GYwsQNz5FehT"
      },
      "outputs": [
        {
          "name": "stdout",
          "output_type": "stream",
          "text": [
            "2022101963\n",
            "hasPrime(num_list):\n",
            "True\n"
          ]
        }
      ],
      "source": [
        "class Node:\n",
        "    def __init__(self, data):\n",
        "        self.data = data\n",
        "        self.next = None\n",
        "\n",
        "class LinkedList:\n",
        "    def __init__(self):\n",
        "        self.head = None\n",
        "\n",
        "    def traverse(self, head):\n",
        "        current = head\n",
        "        while current:\n",
        "            print(current.data)\n",
        "            current = current.next\n",
        "\n",
        "def is_prime(num):\n",
        "    if num < 2:\n",
        "        return False\n",
        "    for i in range(2, num):\n",
        "        if num % i == 0:\n",
        "            return False\n",
        "    return True\n",
        "\n",
        "def hasPrime(linked_list):\n",
        "    last_six_digits = \"\"\n",
        "    student_number = linked_list.head\n",
        "\n",
        "    while student_number:\n",
        "        last_six_digits += str(student_number.data)\n",
        "        student_number = student_number.next\n",
        "\n",
        "    last_6_digits = last_six_digits[-6:]\n",
        "\n",
        "    for num in last_six_digits:\n",
        "        if is_prime(int(num)):\n",
        "            return True\n",
        "\n",
        "    return False\n",
        "\n",
        "num_list = LinkedList()\n",
        "\n",
        "num_list.head = Node(2022101963)\n",
        "num_list.traverse(num_list.head)\n",
        "\n",
        "\n",
        "result = hasPrime(num_list)\n",
        "print(\"hasPrime(num_list):\")\n",
        "print(result)\n"
      ]
    },
    {
      "cell_type": "markdown",
      "metadata": {
        "id": "5Qb0BOiwFehT"
      },
      "source": [
        "3. Write a `removeZeroes()` function to remove all occurrences of zeroes in **num_list**. `(5 points)`\n",
        "\n",
        "- If a zero is in **num_list**, return **num_list**\n",
        "\n",
        "- If there are no zeroes in **num_list**, return **\"no zeros found\"**\n",
        "\n",
        "    **Expected Output:**\n",
        "\n",
        "    removeZeroes(num_list)\n",
        "\n",
        "    [2, 2, 1, 2, 3, 4, 5, 6]"
      ]
    },
    {
      "cell_type": "code",
      "execution_count": 1011,
      "metadata": {
        "id": "k1vAHUYuFehT"
      },
      "outputs": [
        {
          "name": "stdout",
          "output_type": "stream",
          "text": [
            "[2, 2, 2, 1, 1, 9, 6, 3]\n"
          ]
        }
      ],
      "source": [
        "def removeZeroes(num_list):\n",
        "    num_list_without_zeroes = [num for num in num_list if num != 0]\n",
        "\n",
        "    if num_list_without_zeroes == num_list:\n",
        "        return \"no zeros found\"\n",
        "    else:\n",
        "        return num_list_without_zeroes\n",
        "\n",
        "num_list = [2, 0, 2, 2, 1, 0, 1, 9, 6, 3, ]\n",
        "result = removeZeroes(num_list)\n",
        "print(result)\n"
      ]
    },
    {
      "cell_type": "markdown",
      "metadata": {
        "id": "SKAlpglNFehT"
      },
      "source": [
        "4. Insert a dash symbol between the 4th and 5th digit in **num_list**. `(5 points)`\n",
        "\n",
        "    **Expected Output:**\n",
        "\n",
        "    print(num_list)\n",
        "\n",
        "    [2, 0, 2, 2, \"-\", 1, 2, 3, 4, 5, 6]"
      ]
    },
    {
      "cell_type": "code",
      "execution_count": 1012,
      "metadata": {
        "id": "vF7fimZ-FehT"
      },
      "outputs": [
        {
          "name": "stdout",
          "output_type": "stream",
          "text": [
            "Student Number:\n",
            "2022-101963\n"
          ]
        }
      ],
      "source": [
        "class Node:\n",
        "    def __init__(self, data):\n",
        "        self.data = data\n",
        "        self.next = None\n",
        "\n",
        "class SinglyLinkedList:\n",
        "    def __init__(self):\n",
        "        self.head = None\n",
        "\n",
        "    def traverse(self):\n",
        "        student_number = self.head\n",
        "        while student_number:\n",
        "             print(str(student_number.data)[:4] + '-' + str(student_number.data)[4:])\n",
        "             student_number = student_number.next\n",
        "\n",
        "num_list = SinglyLinkedList()\n",
        "num_list.head = Node(2022101963)\n",
        "\n",
        "print(\"Student Number:\")\n",
        "num_list.traverse()"
      ]
    },
    {
      "cell_type": "markdown",
      "metadata": {
        "id": "KkC-LgdxFehT"
      },
      "source": [
        "## Stack"
      ]
    },
    {
      "cell_type": "code",
      "execution_count": 1013,
      "metadata": {
        "id": "UYTqB1u_FehU"
      },
      "outputs": [],
      "source": [
        "# Creating a stack\n",
        "def create_stack():\n",
        "    stack = []\n",
        "    return stack\n",
        "\n",
        "\n",
        "def print_stack(stack):\n",
        "\n",
        "    if (check_empty(stack)):\n",
        "        return \"stack is empty\"\n",
        "\n",
        "    # Create a copy of the stack and reverse the elements\n",
        "    tempStack = stack.copy()\n",
        "    tempStack.reverse()\n",
        "\n",
        "    # Print all elements using a loop\n",
        "    for i in tempStack:\n",
        "        print(i)\n",
        "\n",
        "    # Delete the copy to free up memory\n",
        "    del tempStack\n",
        "\n",
        "# Creating an empty stack\n",
        "\n",
        "\n",
        "def check_empty(stack):\n",
        "    return len(stack) == 0\n",
        "\n",
        "\n",
        "# Adding items into the stack\n",
        "def push(stack, item):\n",
        "    stack.append(item)\n",
        "    print(\"pushed item: \" + item)\n",
        "\n",
        "\n",
        "# Removing an element from the stack\n",
        "def pop(stack):\n",
        "    if (check_empty(stack)):\n",
        "        return \"stack is empty\"\n",
        "\n",
        "    return stack.pop()\n",
        "\n",
        "\n",
        "def peek(stack):\n",
        "\n",
        "    # Use negative indexing to display the last element of the list\n",
        "    print(stack[-1])"
      ]
    },
    {
      "cell_type": "markdown",
      "metadata": {
        "id": "wLAQchs8FehU"
      },
      "source": [
        "**Instructions** ❗️❗️\n",
        "\n",
        "Use the pre-defined stack class/functions to create a stack"
      ]
    },
    {
      "cell_type": "markdown",
      "metadata": {
        "id": "37cg9BoCFehU"
      },
      "source": [
        "1. Create two (2) stacks named **name_stack** and **num_stack** `(5 points)`\n",
        "\n",
        "- **name_stack** should contain all letters of your first name.\n",
        "- **num_stack** should contain all digits of your student number.\n",
        "\n",
        "    **Expected Output:**\n",
        "\n",
        "    print(name_stack)\n",
        "\n",
        "    ['E', 'L', 'I', 'Z', 'E', 'R']\n",
        "\n",
        "    print(num_stack)\n",
        "\n",
        "    [2,0,2,2,1,2,3,4,5,6]"
      ]
    },
    {
      "cell_type": "code",
      "execution_count": 1014,
      "metadata": {
        "id": "HlUIUQzQFehU"
      },
      "outputs": [
        {
          "name": "stdout",
          "output_type": "stream",
          "text": [
            "['J', 'A', 'N', 'N', 'A', 'H']\n",
            "[2, 0, 2, 2, 1, 0, 1, 9, 6, 3]\n"
          ]
        }
      ],
      "source": [
        "name_stack = ['J', 'A', 'N', 'N', 'A', 'H']\n",
        "num_stack = [2, 0, 2, 2, 1, 0, 1, 9, 6, 3]\n",
        "\n",
        "print(name_stack)\n",
        "print(num_stack)"
      ]
    },
    {
      "cell_type": "markdown",
      "metadata": {
        "id": "8cySe9LXFehU"
      },
      "source": [
        "2. Create a stack named **my_stack** that follows the following format: `(5 points)`\n",
        "\n",
        "- The first element should be the **5th digit in your student number**\n",
        "- The succeeding elements should be the letters of your **first name**\n",
        "- The last element should be the **last digit of your student number**\n",
        "\n",
        "    **Expected Output:**\n",
        "\n",
        "    my_stack = [1, E, L, I, Z, E, R, 6]"
      ]
    },
    {
      "cell_type": "code",
      "execution_count": 1015,
      "metadata": {
        "id": "bEnCoAhjFehU"
      },
      "outputs": [
        {
          "name": "stdout",
          "output_type": "stream",
          "text": [
            "['1', 'J', 'A', 'N', 'N', 'A', 'H', '3']\n"
          ]
        }
      ],
      "source": [
        "def create_stack():\n",
        "    return []\n",
        "\n",
        "def push(stack, item):\n",
        "    stack.append(item)\n",
        "\n",
        "my_stack = create_stack()\n",
        "\n",
        "push(my_stack, str(1))\n",
        "first_name = 'JANNAH'\n",
        "for letter in first_name:\n",
        "    push(my_stack, letter)\n",
        "\n",
        "push(my_stack, str(3))\n",
        "print(my_stack)\n"
      ]
    },
    {
      "cell_type": "markdown",
      "metadata": {
        "id": "8a8_KP5nFehU"
      },
      "source": [
        "3. Write a `verifyStack()` function that will take in `my_stack` and check if its format has been followed `(10 points)`\n",
        "\n",
        "- Return **True** if the format has been followed\n",
        "- Return **False** if the format was not followed\n",
        "- Verify the format by checking the contents of **my_stack** with **name_stack** and **num_stack**\n",
        "\n",
        "    **Expected Output:**\n",
        "\n",
        "    my_stack = [1, E, L, I, Z, E, R, 6]\n",
        "\n",
        "    verifyStack(my_stack)\n",
        "\n",
        "    True\n",
        "\n",
        "    my_stack = [1, S, L, I, Z, E, R, 7]\n",
        "\n",
        "    verifyStack(my_stack)\n",
        "\n",
        "    False"
      ]
    },
    {
      "cell_type": "code",
      "execution_count": 1016,
      "metadata": {
        "id": "RdANSxD0FehU"
      },
      "outputs": [
        {
          "name": "stdout",
          "output_type": "stream",
          "text": [
            "True\n",
            "False\n"
          ]
        }
      ],
      "source": [
        "def verifyStack(my_stack):\n",
        "    \n",
        "    name_stack = [\"J\", \"A\", \"N\", \"N\", \"A\", \"H\"]\n",
        "    number_stack = [0, 1, 2, 3, 4, 5, 6, 7, 8, 9]\n",
        "\n",
        "    if len(my_stack) != 8:\n",
        "        return False\n",
        "\n",
        "    if my_stack[0] != 1:\n",
        "        return False\n",
        "\n",
        "    if my_stack[1:7] != name_stack:\n",
        "        return False\n",
        "\n",
        "    if my_stack[-1] not in number_stack:\n",
        "        return False\n",
        "\n",
        "    return True\n",
        "\n",
        "\n",
        "my_stack1 = [1, \"J\", \"A\", \"N\", \"N\", \"A\", \"H\", 6]\n",
        "result1 = verifyStack(my_stack1)\n",
        "print(result1)  # Output should be True\n",
        "\n",
        "my_stack2 = [1, \"J\", \"A\", \"N\", \"N\", \"A\", \"H\", 0]\n",
        "result3 = verifyStack(my_stack3)\n",
        "print(result2)  # Output should be False\n",
        "\n",
        "\n"
      ]
    },
    {
      "cell_type": "markdown",
      "metadata": {
        "id": "UC5C64B2FehU"
      },
      "source": [
        "## Queue"
      ]
    },
    {
      "cell_type": "code",
      "execution_count": 1017,
      "metadata": {
        "id": "NJJ0j0LHFehU"
      },
      "outputs": [],
      "source": [
        "class Queue:\n",
        "    def __init__(self):\n",
        "        self.queue = []\n",
        "\n",
        "    # Add an element\n",
        "    def enqueue(self, item):\n",
        "        self.queue.append(item)\n",
        "\n",
        "    # Remove an element\n",
        "    def dequeue(self):\n",
        "        if len(self.queue) < 1:\n",
        "            return None\n",
        "        return self.queue.pop(0)\n",
        "\n",
        "    # Display  the queue\n",
        "    def display(self):\n",
        "        print(self.queue)\n",
        "\n",
        "    def size(self):\n",
        "        return len(self.queue)\n",
        "\n",
        "    def peek(self):\n",
        "        return self.queue[0]"
      ]
    },
    {
      "cell_type": "markdown",
      "metadata": {
        "id": "80OekpbeFehV"
      },
      "source": [
        "**Instructions** ❗️❗️\n",
        "\n",
        "Use the pre-defined queue class/functions to create a Queue"
      ]
    },
    {
      "cell_type": "markdown",
      "metadata": {
        "id": "_Hf0OP5cFehV"
      },
      "source": [
        "1. Create a simple queue named **num_queue** `(5 points)`\n",
        "\n",
        "- **num_queue** should contain all digits of your student number.\n",
        "\n",
        "    **Expected Output:**\n",
        "\n",
        "    print(num_queue)\n",
        "\n",
        "    [2,0,2,2,1,2,3,4,5,6]"
      ]
    },
    {
      "cell_type": "code",
      "execution_count": 1018,
      "metadata": {
        "id": "_mgmE4ArFehV"
      },
      "outputs": [
        {
          "name": "stdout",
          "output_type": "stream",
          "text": [
            "[2, 0, 2, 2, 1, 0, 1, 9, 6, 3]\n"
          ]
        }
      ],
      "source": [
        "student_number = [2,0,2,2,1,0,1,9,6,3]\n",
        "num_queue = Queue()\n",
        "\n",
        "for stud_num in student_number:\n",
        "    num_queue.enqueue(stud_num)\n",
        "\n",
        "num_queue.display()"
      ]
    },
    {
      "cell_type": "markdown",
      "metadata": {
        "id": "1pHG8t6DFehV"
      },
      "source": [
        "2. Write a `getMax()` or `getMin()` function for **num_queue** `(5 points)`\n",
        "\n",
        "- If your student number ends with an odd number, create a `getMax()` function that will return the largest number in **num_queue**\n",
        "- If your student number ends with an even number, create a `getMin()` function that will return the lowest number in **num_queue**\n",
        "\n",
        "    **Expected Output for getMax():**\n",
        "\n",
        "    getMax(num_queue)\n",
        "\n",
        "    6\n",
        "\n",
        "    **Expected Output for getMin():**\n",
        "\n",
        "    getMin(num_queue)\n",
        "\n",
        "    0"
      ]
    },
    {
      "cell_type": "code",
      "execution_count": 1019,
      "metadata": {
        "id": "itj2U610FehV"
      },
      "outputs": [
        {
          "name": "stdout",
          "output_type": "stream",
          "text": [
            "Largest Number: 9\n"
          ]
        }
      ],
      "source": [
        "def getMax(num_queue):\n",
        "  if num_queue[-1] % 2 == 1:\n",
        "    max_num = num_queue[0]\n",
        "\n",
        "    for num in num_queue:\n",
        "      if num > max_num:\n",
        "        max_num = num\n",
        "\n",
        "        return max_num\n",
        "\n",
        "num_queue = (2,0,2,2,1,0,1,9,6,3)\n",
        "print('Largest Number:',getMax(num_queue))"
      ]
    },
    {
      "cell_type": "markdown",
      "metadata": {
        "id": "YkgmP6GwFehV"
      },
      "source": [
        "3. Write a `getOdd()` or `getEven()` function for  **num_queue** `(5 points)`\n",
        "\n",
        "- If your student number ends with an **odd number**, create a `getOdd()` function that will return all odd numbers in **num_queue**\n",
        "- If your student number ends with an **even number**, create a `getEven()` function that will return all even numbers in **num_queue**\n",
        "\n",
        "    **Expected Output for getOdd():**\n",
        "\n",
        "    getOdd(num_queue)\n",
        "\n",
        "    [1, 3, 5]\n",
        "\n",
        "    **Expected Output for getEven():**\n",
        "\n",
        "    getEven(num_queue)\n",
        "\n",
        "    [0, 2, 4, 6]"
      ]
    },
    {
      "cell_type": "code",
      "execution_count": 1020,
      "metadata": {
        "id": "2Bc7E1zNFehV"
      },
      "outputs": [
        {
          "name": "stdout",
          "output_type": "stream",
          "text": [
            "[1, 1, 9, 3]\n"
          ]
        }
      ],
      "source": [
        "class Queue:\n",
        "    def __init__(self):\n",
        "        self.queue = []\n",
        "\n",
        "    def enqueue(self, item):\n",
        "        self.queue.append(item)\n",
        "\n",
        "    def dequeue(self):\n",
        "        if not self.is_empty():\n",
        "            return self.queue.pop(0)\n",
        "        else:\n",
        "            return None\n",
        "\n",
        "    def size(self):\n",
        "        return len(self.queue)\n",
        "\n",
        "    def is_empty(self):\n",
        "        return len(self.queue) == 0\n",
        "\n",
        "def getOdd(num_queue):\n",
        "    odd_numbers = Queue()\n",
        "    while not num_queue.is_empty():\n",
        "        num = num_queue.dequeue()\n",
        "        if num % 2 == 1:\n",
        "            odd_numbers.enqueue(num)\n",
        "    return odd_numbers.queue\n",
        "\n",
        "num_queue = Queue()\n",
        "num_queue.enqueue(2)\n",
        "num_queue.enqueue(0)\n",
        "num_queue.enqueue(2)\n",
        "num_queue.enqueue(2)\n",
        "num_queue.enqueue(1)\n",
        "num_queue.enqueue(0)\n",
        "num_queue.enqueue(1)\n",
        "num_queue.enqueue(9)\n",
        "num_queue.enqueue(6)\n",
        "num_queue.enqueue(3)\n",
        "\n",
        "last_digit = 3  \n",
        "\n",
        "if last_digit % 2 == 0:\n",
        "    result = getEven(num_queue)\n",
        "    print(result)\n",
        "else:\n",
        "    result = getOdd(num_queue)\n",
        "    print(result)\n",
        "\n"
      ]
    },
    {
      "cell_type": "markdown",
      "metadata": {
        "id": "kuzWF5g4FehV"
      },
      "source": [
        "4. Write a `removeDup()` function that will remove all duplicates in **num_queue** `(5 points)`\n",
        "\n",
        "    **Expected Output:**\n",
        "\n",
        "    removeDup(num_queue)\n",
        "\n",
        "    [2,0,1,3,4,5,6]"
      ]
    },
    {
      "cell_type": "code",
      "execution_count": 1021,
      "metadata": {
        "id": "I8LeQP8MFehY"
      },
      "outputs": [
        {
          "name": "stdout",
          "output_type": "stream",
          "text": [
            "Original queue:\n",
            "[2, 0, 2, 2, 1, 0, 1, 9, 6, 3]\n",
            "Queue after removing duplicates:\n",
            "[2, 0, 1, 9, 6, 3]\n"
          ]
        }
      ],
      "source": [
        "class Queue:\n",
        "    def __init__(self):\n",
        "        self.queue = []\n",
        "\n",
        "    def enqueue(self, item):\n",
        "        self.queue.append(item)\n",
        "\n",
        "    def dequeue(self):\n",
        "        if not self.is_empty():\n",
        "            return self.queue.pop(0)\n",
        "        else:\n",
        "            return None\n",
        "\n",
        "    def size(self):\n",
        "        return len(self.queue)\n",
        "\n",
        "    def is_empty(self):\n",
        "        return len(self.queue) == 0\n",
        "\n",
        "def removeDup(queue):\n",
        "    unique_elements = set()\n",
        "    new_queue = Queue()\n",
        "\n",
        "    while not queue.is_empty():\n",
        "        item = queue.dequeue()\n",
        "        if item not in unique_elements:\n",
        "            unique_elements.add(item)\n",
        "            new_queue.enqueue(item)\n",
        "\n",
        "   \n",
        "    queue.queue = new_queue.queue\n",
        "\n",
        "\n",
        "number_queue = Queue()\n",
        "number_queue.enqueue(2)\n",
        "number_queue.enqueue(0)\n",
        "number_queue.enqueue(2)\n",
        "number_queue.enqueue(2)\n",
        "number_queue.enqueue(1)\n",
        "number_queue.enqueue(0)\n",
        "number_queue.enqueue(1)\n",
        "number_queue.enqueue(9)  \n",
        "number_queue.enqueue(6)  \n",
        "number_queue.enqueue(3) \n",
        "\n",
        "\n",
        "print(\"Original queue:\")\n",
        "print(number_queue.queue)\n",
        "\n",
        "removeDup(number_queue)\n",
        "\n",
        "print(\"Queue after removing duplicates:\")\n",
        "print(number_queue.queue)\n",
        "\n"
      ]
    },
    {
      "cell_type": "markdown",
      "metadata": {
        "id": "LVfZTh8YFehZ"
      },
      "source": [
        "## Sort"
      ]
    },
    {
      "cell_type": "markdown",
      "metadata": {
        "id": "bm9lonfzFehZ"
      },
      "source": [
        "**Instructions** ❗️❗️\n",
        "\n",
        "Use the any sorting algoritms"
      ]
    },
    {
      "cell_type": "markdown",
      "metadata": {
        "id": "EJTlxhEdFehZ"
      },
      "source": [
        "1. Using any sorting algorithm, sort the **last 6 digits** of your student number in ascending order `(5 points)`\n",
        "\n",
        "    **Example:**\n",
        "\n",
        "    student_number = [2,0,2,2,6,2,5,1,3,4]\n",
        "\n",
        "    **Expected Output:**\n",
        "\n",
        "    print(student_number)\n",
        "\n",
        "    [2,0,2,2,1,2,3,4,5,6]\n"
      ]
    },
    {
      "cell_type": "code",
      "execution_count": 1022,
      "metadata": {
        "id": "MkZKfveOFehZ"
      },
      "outputs": [
        {
          "name": "stdout",
          "output_type": "stream",
          "text": [
            "Sorted Student_number: [2, 0, 2, 2, 0, 1, 1, 3, 6, 9]\n"
          ]
        }
      ],
      "source": [
        "def bubbleSort(array):\n",
        "    n = len(array)\n",
        "    for i in range(n):\n",
        "        for j in range(0, n - i - 1):\n",
        "            if array[j] > array[j + 1]:\n",
        "                temp = array[j]\n",
        "                array[j] = array[j + 1]\n",
        "                array[j + 1] = temp\n",
        "\n",
        "Student_number = [2, 0, 2, 2, 1, 0, 1, 9, 6, 3]  \n",
        "bubbleSort(last_six_digits)\n",
        "\n",
        "sorted_Student_number = Student_number[:-6] + last_six_digits\n",
        "print(\"Sorted Student_number:\", sorted_Student_number)\n",
        "\n",
        "                                     \n",
        "    "
      ]
    },
    {
      "cell_type": "markdown",
      "metadata": {
        "id": "sC2JZRZMFehZ"
      },
      "source": [
        "2. Using your student_number, separately sort the even numbers in **increasing order** and the odd numbers in **decreasing order** `(15 points)`\n",
        "\n",
        "    **Example:**\n",
        "\n",
        "    student_number = [2,0,2,2,1,2,3,4,5,6]\n",
        "\n",
        "    **Expected Output:**\n",
        "\n",
        "    print(student_number)\n",
        "\n",
        "    [0,2,2,2,2,4,6,5,3,1]"
      ]
    },
    {
      "cell_type": "code",
      "execution_count": 1023,
      "metadata": {
        "id": "hWOh_ohcFehZ"
      },
      "outputs": [
        {
          "name": "stdout",
          "output_type": "stream",
          "text": [
            "Student Number: [2, 0, 2, 2, 1, 0, 1, 9, 6, 3]\n",
            "Even Number, Odd Numbers:  [0, 0, 2, 2, 2, 6, 9, 3, 1, 1]\n"
          ]
        }
      ],
      "source": [
        "student_number = [2, 0, 2, 2, 1, 0, 1, 9, 6, 3]\n",
        "\n",
        "odd_numbers = [num for num in student_number if num % 2 != 0]\n",
        "even_numbers = [num for num in student_number if num % 2 == 0]\n",
        "\n",
        "sorted_even_numbersbers = sorted(even_numbers)\n",
        "sorted_odd_numbersbers = sorted(odd_numbers, reverse=True)\n",
        "sorted_student_number = sorted_even_numbersbers + sorted_odd_numbersbers\n",
        "\n",
        "print(\"Student Number:\", student_number)\n",
        "print(\"Even Number, Odd Numbers: \", sorted_student_number)"
      ]
    }
  ],
  "metadata": {
    "colab": {
      "include_colab_link": true,
      "provenance": []
    },
    "kernelspec": {
      "display_name": "Python 3",
      "language": "python",
      "name": "python3"
    },
    "language_info": {
      "codemirror_mode": {
        "name": "ipython",
        "version": 3
      },
      "file_extension": ".py",
      "mimetype": "text/x-python",
      "name": "python",
      "nbconvert_exporter": "python",
      "pygments_lexer": "ipython3",
      "version": "3.11.4"
    },
    "orig_nbformat": 4
  },
  "nbformat": 4,
  "nbformat_minor": 0
}
